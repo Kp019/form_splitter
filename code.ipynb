{
 "cells": [
  {
   "cell_type": "code",
   "execution_count": 1,
   "metadata": {},
   "outputs": [],
   "source": [
    "import pandas as pd"
   ]
  },
  {
   "cell_type": "code",
   "execution_count": 2,
   "metadata": {},
   "outputs": [],
   "source": [
    "fs = pd.read_csv(\"./hack(); 2023 - Call For Volunteers  (Responses) - Form Responses 1.csv\")"
   ]
  },
  {
   "cell_type": "code",
   "execution_count": 3,
   "metadata": {},
   "outputs": [],
   "source": [
    "pc = fs[fs['Third Preference'] == 'Program Committee']\n",
    "reg = fs[fs['Third Preference'] == 'Registration']\n",
    "pub = fs[fs['Third Preference'] == 'Publicity']\n",
    "des = fs[fs['Third Preference'] == 'Design']\n",
    "doc = fs[fs['Third Preference'] == 'Documentation']\n",
    "spon = fs[fs['Third Preference'] == 'Sponsorship Team']\n",
    "spknjdg = fs[fs['Third Preference'] == 'Speaker and Judges Communication']\n",
    "hosp = fs[fs['Third Preference'] == 'Hospitality & Delegate Management']\n",
    "logi = fs[fs['Third Preference'] == 'Logistics Team']\n",
    "Techi = fs[fs['Third Preference'] == 'Technical Team']"
   ]
  },
  {
   "cell_type": "code",
   "execution_count": 4,
   "metadata": {},
   "outputs": [],
   "source": [
    "pc.to_csv('Program Committee - 3.csv', index=False)\n",
    "reg.to_csv('Registration - 3.csv', index=False)\n",
    "pub.to_csv('Publicity - 3.csv', index=False)\n",
    "des.to_csv('Design - 3.csv', index=False)\n",
    "doc.to_csv('Documentation - 3.csv', index=False)\n",
    "spon.to_csv('Sponsorship - 3.csv', index=False)\n",
    "spknjdg.to_csv('Speaker&judges comm - 3.csv', index=False)\n",
    "hosp.to_csv('Hospitality - 3.csv', index=False)\n",
    "logi.to_csv('Logistics - 3.csv', index=False)\n",
    "Techi.to_csv('Technical - 3.csv', index=False)"
   ]
  },
  {
   "cell_type": "code",
   "execution_count": null,
   "metadata": {},
   "outputs": [],
   "source": []
  }
 ],
 "metadata": {
  "kernelspec": {
   "display_name": "Python 3",
   "language": "python",
   "name": "python3"
  },
  "language_info": {
   "codemirror_mode": {
    "name": "ipython",
    "version": 3
   },
   "file_extension": ".py",
   "mimetype": "text/x-python",
   "name": "python",
   "nbconvert_exporter": "python",
   "pygments_lexer": "ipython3",
   "version": "3.10.2"
  },
  "orig_nbformat": 4
 },
 "nbformat": 4,
 "nbformat_minor": 2
}
